{
  "nbformat": 4,
  "nbformat_minor": 0,
  "metadata": {
    "colab": {
      "provenance": []
    },
    "kernelspec": {
      "name": "python3",
      "display_name": "Python 3"
    },
    "language_info": {
      "name": "python"
    }
  },
  "cells": [
    {
      "cell_type": "markdown",
      "source": [
        "MEMBUAT PERMAINAN TEBAK ANGKA"
      ],
      "metadata": {
        "id": "UiUTYYGRe-P1"
      }
    },
    {
      "cell_type": "code",
      "execution_count": null,
      "metadata": {
        "id": "ngigsUp2Qm2b"
      },
      "outputs": [],
      "source": [
        "import random"
      ]
    },
    {
      "cell_type": "code",
      "source": [
        "print('*' * 22)\n",
        "print('PERMAINAN TEBAK ANGKA')\n",
        "print('*' * 22)\n",
        "\n",
        "nama = str(input('Masukan Nama Pemain: '))\n",
        "print('Halo', nama, 'Selamat datang di Permainan Tebak Angka!')\n",
        "print('*' * 22)\n",
        "\n",
        "print('Saya memikirkan sebuah angka dari 1 - 20')\n",
        "angka_rahasia = int(random.randint(1, 20))\n",
        "print('Silahkan tebak angka yang saaya pikirkan')\n",
        "print('Input HARUS berupa angka')\n",
        "\n",
        "score = 100\n",
        "print('Score anda saat ini: ', score)\n",
        "\n",
        "batas_percobaan = 10\n",
        "\n",
        "for percobaan in range(batas_percobaan):\n",
        "  jawaban = int(input(f'\\n[Percobaan {percobaan + 1}] Masukkan tebakan Anda: '))\n",
        "\n",
        "  if jawaban == angka_rahasia:\n",
        "    print('Selamat!, Tebakan anda benar')\n",
        "    print('Score anda saat ini: ', score)\n",
        "    break\n",
        "  \n",
        "  elif jawaban > angka_rahasia:\n",
        "    print('Tebakan anda terlalu besar, score anda dikurangi 10')\n",
        "    score -= 10\n",
        "    print('Score anda saat ini: ', score)\n",
        "  \n",
        "  elif jawaban < angka_rahasia:\n",
        "    print('Tebakan anda terlalu kecil, score anda dikurangi 10')\n",
        "    score -= 10\n",
        "    print('Score anda saat ini: ', score)\n",
        "\n",
        "  else:\n",
        "    print('Tebakan harus berupa angka')\n",
        "    print('Penalty, point anda dikurangi 20')\n",
        "    score -= 20\n",
        "    print('Score anda saat ini: ', score)\n",
        "\n",
        "else:\n",
        "  print('GAME OVER! :P')"
      ],
      "metadata": {
        "colab": {
          "base_uri": "https://localhost:8080/"
        },
        "id": "vMfuLeNJQwFE",
        "outputId": "e84d4bd0-afa5-4111-bf3d-8d3db319b7ce"
      },
      "execution_count": null,
      "outputs": [
        {
          "output_type": "stream",
          "name": "stdout",
          "text": [
            "**********************\n",
            "PERMAINAN TEBAK ANGKA\n",
            "**********************\n",
            "Masukan Nama Pemain: boi\n",
            "Halo boi Selamat datang di Permainan Tebak Angka!\n",
            "**********************\n",
            "Saya memikirkan sebuah angka dari 1 - 20\n",
            "Silahkan tebak angka yang saaya pikirkan\n",
            "Input HARUS berupa angka\n",
            "Score anda saat ini:  100\n",
            "\n",
            "[Percobaan 1] Masukkan tebakan Anda: 20\n",
            "Tebakan anda terlalu besar, score anda dikurangi 10\n",
            "Score anda saat ini:  90\n",
            "\n",
            "[Percobaan 2] Masukkan tebakan Anda: 9\n",
            "Tebakan anda terlalu kecil, score anda dikurangi 10\n",
            "Score anda saat ini:  80\n",
            "\n",
            "[Percobaan 3] Masukkan tebakan Anda: 15\n",
            "Tebakan anda terlalu kecil, score anda dikurangi 10\n",
            "Score anda saat ini:  70\n",
            "\n",
            "[Percobaan 4] Masukkan tebakan Anda: 19\n",
            "Tebakan anda terlalu besar, score anda dikurangi 10\n",
            "Score anda saat ini:  60\n",
            "\n",
            "[Percobaan 5] Masukkan tebakan Anda: 18\n",
            "Tebakan anda terlalu besar, score anda dikurangi 10\n",
            "Score anda saat ini:  50\n",
            "\n",
            "[Percobaan 6] Masukkan tebakan Anda: 17\n",
            "Tebakan anda terlalu besar, score anda dikurangi 10\n",
            "Score anda saat ini:  40\n",
            "\n",
            "[Percobaan 7] Masukkan tebakan Anda: 16\n",
            "Selamat!, Tebakan anda benar\n",
            "Score anda saat ini:  40\n"
          ]
        }
      ]
    },
    {
      "cell_type": "code",
      "source": [],
      "metadata": {
        "id": "c5LSg0tPTaLe"
      },
      "execution_count": null,
      "outputs": []
    }
  ]
}