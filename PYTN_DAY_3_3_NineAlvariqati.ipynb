{
 "cells": [
  {
   "cell_type": "markdown",
   "id": "a6bb73d3",
   "metadata": {},
   "source": [
    "## Defining Function"
   ]
  },
  {
   "cell_type": "code",
   "execution_count": 7,
   "id": "37ec8872",
   "metadata": {},
   "outputs": [],
   "source": [
    "def my_func(p, l):\n",
    "    \"Fungsi untuk menghitung luas\"\n",
    "    print(p * l)"
   ]
  },
  {
   "cell_type": "code",
   "execution_count": 8,
   "id": "fb80df8d",
   "metadata": {},
   "outputs": [
    {
     "name": "stdout",
     "output_type": "stream",
     "text": [
      "8\n"
     ]
    }
   ],
   "source": [
    "my_func(2, 4)"
   ]
  },
  {
   "cell_type": "markdown",
   "id": "881d32fe",
   "metadata": {},
   "source": [
    "## Calling a Function"
   ]
  },
  {
   "cell_type": "code",
   "execution_count": 9,
   "id": "6d45d58a",
   "metadata": {},
   "outputs": [],
   "source": [
    "def printme( str ):\n",
    "    \"This prints a passed string into this func\"\n",
    "    print(str)\n",
    "    return"
   ]
  },
  {
   "cell_type": "code",
   "execution_count": 10,
   "id": "74c6fe8b",
   "metadata": {},
   "outputs": [
    {
     "name": "stdout",
     "output_type": "stream",
     "text": [
      "I'm first call to user defined function!\n",
      "Again second call to the same function\n"
     ]
    }
   ],
   "source": [
    "printme(\"I'm first call to user defined function!\")\n",
    "printme(\"Again second call to the same function\")"
   ]
  },
  {
   "cell_type": "markdown",
   "id": "a2b8f9ac",
   "metadata": {},
   "source": [
    "## Pass by Reference vs Value"
   ]
  },
  {
   "cell_type": "code",
   "execution_count": 11,
   "id": "e8e0998b",
   "metadata": {},
   "outputs": [
    {
     "name": "stdout",
     "output_type": "stream",
     "text": [
      "Values inside the function:  [10, 20, 30, [1, 2, 3, 4]]\n",
      "Values outside the function:  [10, 20, 30, [1, 2, 3, 4]]\n"
     ]
    }
   ],
   "source": [
    "#Function divinitionis here\n",
    "def changeme( mylist ):\n",
    "    \"This changes a passed  list into this function\"\n",
    "    mylist.append([1, 2, 3, 4]);\n",
    "    print(\"Values inside the function: \", mylist)\n",
    "    return\n",
    "\n",
    "#Memanggil fungsi changeme\n",
    "mylist = [10, 20, 30];\n",
    "changeme( mylist );\n",
    "print(\"Values outside the function: \", mylist)"
   ]
  },
  {
   "cell_type": "code",
   "execution_count": 12,
   "id": "098d973b",
   "metadata": {},
   "outputs": [
    {
     "name": "stdout",
     "output_type": "stream",
     "text": [
      "Values inside the function:  [1, 2, 3, 4]\n",
      "Values outside the function:  [10, 20, 30]\n"
     ]
    }
   ],
   "source": [
    "#Function divinitionis here\n",
    "def changeme( mylist ):\n",
    "    \"This changes a passed  list into this function\"\n",
    "    mylist = ([1, 2, 3, 4]);\n",
    "    print(\"Values inside the function: \", mylist)\n",
    "    return\n",
    "\n",
    "#Memanggil fungsi changeme\n",
    "mylist = [10, 20, 30];\n",
    "changeme( mylist );\n",
    "print(\"Values outside the function: \", mylist)"
   ]
  },
  {
   "cell_type": "markdown",
   "id": "6f1a1575",
   "metadata": {},
   "source": [
    "## Function Argument"
   ]
  },
  {
   "cell_type": "code",
   "execution_count": 13,
   "id": "5de69607",
   "metadata": {},
   "outputs": [
    {
     "ename": "TypeError",
     "evalue": "printme() missing 1 required positional argument: 'str'",
     "output_type": "error",
     "traceback": [
      "\u001b[1;31m---------------------------------------------------------------------------\u001b[0m",
      "\u001b[1;31mTypeError\u001b[0m                                 Traceback (most recent call last)",
      "Input \u001b[1;32mIn [13]\u001b[0m, in \u001b[0;36m<cell line: 8>\u001b[1;34m()\u001b[0m\n\u001b[0;32m      5\u001b[0m     \u001b[38;5;28;01mreturn\u001b[39;00m;\n\u001b[0;32m      7\u001b[0m \u001b[38;5;66;03m#Call the function\u001b[39;00m\n\u001b[1;32m----> 8\u001b[0m \u001b[43mprintme\u001b[49m\u001b[43m(\u001b[49m\u001b[43m)\u001b[49m\n",
      "\u001b[1;31mTypeError\u001b[0m: printme() missing 1 required positional argument: 'str'"
     ]
    }
   ],
   "source": [
    "#Function divinitionis here\n",
    "def printme( str ):\n",
    "    \"This prints a passed string into this func\"\n",
    "    print(str)\n",
    "    return;\n",
    "\n",
    "#Call the function\n",
    "printme()"
   ]
  },
  {
   "cell_type": "code",
   "execution_count": 14,
   "id": "f6e0bdd4",
   "metadata": {},
   "outputs": [
    {
     "name": "stdout",
     "output_type": "stream",
     "text": [
      "Halo-halo bandung!\n"
     ]
    }
   ],
   "source": [
    "#Code di atas error karena pada fungsi printme tidak kita tambahkan argumen\n",
    "#Function divinitionis here\n",
    "def printme( str ):\n",
    "    \"This prints a passed string into this func\"\n",
    "    print(str)\n",
    "    return;\n",
    "\n",
    "#Call the function\n",
    "printme(str = \"Halo-halo bandung!\")"
   ]
  },
  {
   "cell_type": "code",
   "execution_count": 15,
   "id": "626d03af",
   "metadata": {},
   "outputs": [
    {
     "name": "stdout",
     "output_type": "stream",
     "text": [
      "Name:  Nine\n",
      "Age:  4\n"
     ]
    }
   ],
   "source": [
    "#Function divinitionis here\n",
    "def printinfo( name, age ):\n",
    "    \"This prints a passed string into this func\"\n",
    "    print(\"Name: \", name)\n",
    "    print(\"Age: \", age)\n",
    "    return;\n",
    "\n",
    "#Call the function\n",
    "printinfo(age = 4, name = \"Nine\")"
   ]
  },
  {
   "cell_type": "code",
   "execution_count": 16,
   "id": "6677569c",
   "metadata": {},
   "outputs": [
    {
     "name": "stdout",
     "output_type": "stream",
     "text": [
      "Name: Nine\n",
      "Age: 4\n",
      "Name: Rara\n",
      "Age: 26\n"
     ]
    }
   ],
   "source": [
    "#Function divinitionis here\n",
    "def printinfo( name, age=26 ):\n",
    "    \"This prints a passed string into this func\"\n",
    "    print(\"Name:\", name)\n",
    "    print(\"Age:\", age)\n",
    "    return;\n",
    "\n",
    "#Call the function\n",
    "printinfo(age = 4, name = \"Nine\")\n",
    "printinfo(name = 'Rara')"
   ]
  },
  {
   "cell_type": "code",
   "execution_count": 17,
   "id": "a75eb132",
   "metadata": {},
   "outputs": [
    {
     "name": "stdout",
     "output_type": "stream",
     "text": [
      "Output is: \n",
      "10\n",
      "Output is: \n",
      "10\n",
      "20\n",
      "30\n",
      "N\n"
     ]
    }
   ],
   "source": [
    "#Function divinitionis here\n",
    "def printinfo( arg1, *vartuple ):\n",
    "    \"This prints a passed string into this func\"\n",
    "    print(\"Output is: \")\n",
    "    print(arg1)\n",
    "    for var in vartuple:\n",
    "        print(var)\n",
    "    return;\n",
    "\n",
    "#Call the function\n",
    "printinfo(10)\n",
    "printinfo(10, 20, 30, \"N\")"
   ]
  },
  {
   "cell_type": "markdown",
   "id": "b1706151",
   "metadata": {},
   "source": [
    "## The Anonymous Function"
   ]
  },
  {
   "cell_type": "code",
   "execution_count": 18,
   "id": "6f93d184",
   "metadata": {},
   "outputs": [
    {
     "name": "stdout",
     "output_type": "stream",
     "text": [
      "Value of total :  None\n",
      "Value of total :  None\n"
     ]
    }
   ],
   "source": [
    "sum = lambda arg1, arg2: arg1 + arg2;\n",
    "\n",
    "def sum(arg1, arg2):\n",
    "    arg1 + arg2\n",
    "    \n",
    "print(\"Value of total : \", sum( 10, 20 ))\n",
    "print(\"Value of total : \", sum( 20, 20 ))"
   ]
  },
  {
   "cell_type": "markdown",
   "id": "42769d6d",
   "metadata": {},
   "source": [
    "## The Return Statement"
   ]
  },
  {
   "cell_type": "code",
   "execution_count": 19,
   "id": "af68073e",
   "metadata": {},
   "outputs": [
    {
     "name": "stdout",
     "output_type": "stream",
     "text": [
      "Inside the function :  30\n",
      "Outside the function :  40\n"
     ]
    }
   ],
   "source": [
    "def sum(arg1, arg2):\n",
    "    total = arg1 + arg2\n",
    "    total2 = total + arg1\n",
    "    print(\"Inside the function : \", total)\n",
    "    return total2\n",
    "\n",
    "total = sum(10,20)\n",
    "print(\"Outside the function : \", total)"
   ]
  },
  {
   "cell_type": "markdown",
   "id": "9320ed0f",
   "metadata": {},
   "source": [
    "## Scope of Var"
   ]
  },
  {
   "cell_type": "code",
   "execution_count": 20,
   "id": "bc3c50ac",
   "metadata": {},
   "outputs": [],
   "source": [
    "my_var = 'Hacktiv8'\n",
    "\n",
    "def fungsi_1():\n",
    "    print(f\"Jangan lupa subscribe channel {my_var}\")\n",
    "\n",
    "def fungsi_2():\n",
    "    print(f\"Memanggil var {my_var} dari fungsi 2\")"
   ]
  },
  {
   "cell_type": "code",
   "execution_count": 21,
   "id": "a0ca667b",
   "metadata": {},
   "outputs": [
    {
     "name": "stdout",
     "output_type": "stream",
     "text": [
      "Memanggil var Hacktiv8 dari fungsi 2\n"
     ]
    }
   ],
   "source": [
    "fungsi_2()"
   ]
  },
  {
   "cell_type": "code",
   "execution_count": 22,
   "id": "669cfa3f",
   "metadata": {},
   "outputs": [],
   "source": [
    "# local variable\n",
    "def fungsi_3():\n",
    "    nama = \"Afif\"\n",
    "    print(f\"nama saya {nama}\")\n",
    "    print(\"String diatas diprint didalam fungsi\")"
   ]
  },
  {
   "cell_type": "code",
   "execution_count": 23,
   "id": "6cb97913",
   "metadata": {},
   "outputs": [
    {
     "name": "stdout",
     "output_type": "stream",
     "text": [
      "nama saya Afif\n",
      "String diatas diprint didalam fungsi\n"
     ]
    }
   ],
   "source": [
    "fungsi_3()"
   ]
  },
  {
   "cell_type": "code",
   "execution_count": 24,
   "id": "45355d90",
   "metadata": {},
   "outputs": [
    {
     "ename": "NameError",
     "evalue": "name 'nama' is not defined",
     "output_type": "error",
     "traceback": [
      "\u001b[1;31m---------------------------------------------------------------------------\u001b[0m",
      "\u001b[1;31mNameError\u001b[0m                                 Traceback (most recent call last)",
      "Input \u001b[1;32mIn [24]\u001b[0m, in \u001b[0;36m<cell line: 1>\u001b[1;34m()\u001b[0m\n\u001b[1;32m----> 1\u001b[0m \u001b[38;5;28mprint\u001b[39m(\u001b[43mnama\u001b[49m)\n",
      "\u001b[1;31mNameError\u001b[0m: name 'nama' is not defined"
     ]
    }
   ],
   "source": [
    "print(nama)"
   ]
  },
  {
   "cell_type": "code",
   "execution_count": null,
   "id": "bf7538d6",
   "metadata": {},
   "outputs": [],
   "source": []
  }
 ],
 "metadata": {
  "kernelspec": {
   "display_name": "Python 3 (ipykernel)",
   "language": "python",
   "name": "python3"
  },
  "language_info": {
   "codemirror_mode": {
    "name": "ipython",
    "version": 3
   },
   "file_extension": ".py",
   "mimetype": "text/x-python",
   "name": "python",
   "nbconvert_exporter": "python",
   "pygments_lexer": "ipython3",
   "version": "3.9.12"
  }
 },
 "nbformat": 4,
 "nbformat_minor": 5
}
