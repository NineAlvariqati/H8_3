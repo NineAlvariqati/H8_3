{
 "cells": [
  {
   "cell_type": "code",
   "execution_count": 1,
   "id": "c4baef06",
   "metadata": {},
   "outputs": [
    {
     "name": "stdout",
     "output_type": "stream",
     "text": [
      "Hello World\n"
     ]
    }
   ],
   "source": [
    "print('Hello World')"
   ]
  },
  {
   "cell_type": "markdown",
   "id": "f70355cc",
   "metadata": {},
   "source": [
    "## Tipe Data"
   ]
  },
  {
   "cell_type": "code",
   "execution_count": 2,
   "id": "4a363b42",
   "metadata": {},
   "outputs": [
    {
     "name": "stdout",
     "output_type": "stream",
     "text": [
      "3512\n"
     ]
    }
   ],
   "source": [
    "#Tipe data tunggal\n",
    "print(3512)"
   ]
  },
  {
   "cell_type": "code",
   "execution_count": 3,
   "id": "bceca584",
   "metadata": {},
   "outputs": [
    {
     "data": {
      "text/plain": [
       "int"
      ]
     },
     "execution_count": 3,
     "metadata": {},
     "output_type": "execute_result"
    }
   ],
   "source": [
    "type(3512)"
   ]
  },
  {
   "cell_type": "code",
   "execution_count": 4,
   "id": "bead9dc0",
   "metadata": {},
   "outputs": [
    {
     "name": "stdout",
     "output_type": "stream",
     "text": [
      "3.1415\n"
     ]
    }
   ],
   "source": [
    "print(3.1415)"
   ]
  },
  {
   "cell_type": "code",
   "execution_count": 5,
   "id": "86c8cf0c",
   "metadata": {},
   "outputs": [
    {
     "data": {
      "text/plain": [
       "float"
      ]
     },
     "execution_count": 5,
     "metadata": {},
     "output_type": "execute_result"
    }
   ],
   "source": [
    "type(3.1415)"
   ]
  },
  {
   "cell_type": "code",
   "execution_count": 6,
   "id": "0c9a9910",
   "metadata": {},
   "outputs": [
    {
     "name": "stdout",
     "output_type": "stream",
     "text": [
      "(3+2j)\n"
     ]
    }
   ],
   "source": [
    "print(3 + 2j)"
   ]
  },
  {
   "cell_type": "code",
   "execution_count": 7,
   "id": "11b6f08c",
   "metadata": {},
   "outputs": [
    {
     "data": {
      "text/plain": [
       "complex"
      ]
     },
     "execution_count": 7,
     "metadata": {},
     "output_type": "execute_result"
    }
   ],
   "source": [
    "type(3 + 2j)"
   ]
  },
  {
   "cell_type": "code",
   "execution_count": 8,
   "id": "e3d7a1fa",
   "metadata": {},
   "outputs": [
    {
     "name": "stdout",
     "output_type": "stream",
     "text": [
      "4.0\n"
     ]
    },
    {
     "data": {
      "text/plain": [
       "float"
      ]
     },
     "execution_count": 8,
     "metadata": {},
     "output_type": "execute_result"
    }
   ],
   "source": [
    "print(4.0)\n",
    "type(4.0)"
   ]
  },
  {
   "cell_type": "code",
   "execution_count": 9,
   "id": "9072effa",
   "metadata": {},
   "outputs": [
    {
     "name": "stdout",
     "output_type": "stream",
     "text": [
      "True\n"
     ]
    },
    {
     "data": {
      "text/plain": [
       "bool"
      ]
     },
     "execution_count": 9,
     "metadata": {},
     "output_type": "execute_result"
    }
   ],
   "source": [
    "print(True)\n",
    "type(True)"
   ]
  },
  {
   "cell_type": "code",
   "execution_count": 10,
   "id": "a40847ff",
   "metadata": {},
   "outputs": [
    {
     "name": "stdout",
     "output_type": "stream",
     "text": [
      "False\n"
     ]
    },
    {
     "data": {
      "text/plain": [
       "bool"
      ]
     },
     "execution_count": 10,
     "metadata": {},
     "output_type": "execute_result"
    }
   ],
   "source": [
    "print(False)\n",
    "type(False)"
   ]
  },
  {
   "cell_type": "code",
   "execution_count": 11,
   "id": "cb0c1732",
   "metadata": {},
   "outputs": [
    {
     "name": "stdout",
     "output_type": "stream",
     "text": [
      "Halo Dunia!\n"
     ]
    },
    {
     "data": {
      "text/plain": [
       "str"
      ]
     },
     "execution_count": 11,
     "metadata": {},
     "output_type": "execute_result"
    }
   ],
   "source": [
    "print(\"Halo Dunia!\")\n",
    "type(\"Halo Dunia!\")"
   ]
  },
  {
   "cell_type": "code",
   "execution_count": 12,
   "id": "76e3f619",
   "metadata": {},
   "outputs": [
    {
     "name": "stdout",
     "output_type": "stream",
     "text": [
      "46\n"
     ]
    },
    {
     "data": {
      "text/plain": [
       "str"
      ]
     },
     "execution_count": 12,
     "metadata": {},
     "output_type": "execute_result"
    }
   ],
   "source": [
    "print(\"46\")\n",
    "type(\"46\")"
   ]
  },
  {
   "cell_type": "code",
   "execution_count": 13,
   "id": "cab87e97",
   "metadata": {},
   "outputs": [
    {
     "name": "stdout",
     "output_type": "stream",
     "text": [
      "Nama saya Nine A.\n"
     ]
    },
    {
     "data": {
      "text/plain": [
       "str"
      ]
     },
     "execution_count": 13,
     "metadata": {},
     "output_type": "execute_result"
    }
   ],
   "source": [
    "print('Nama saya Nine A.')\n",
    "type('Nama saya Nine A.')"
   ]
  },
  {
   "cell_type": "markdown",
   "id": "f761b715",
   "metadata": {},
   "source": [
    "## Variabel"
   ]
  },
  {
   "cell_type": "code",
   "execution_count": 15,
   "id": "59c952f3",
   "metadata": {},
   "outputs": [
    {
     "name": "stdout",
     "output_type": "stream",
     "text": [
      "12\n"
     ]
    },
    {
     "data": {
      "text/plain": [
       "int"
      ]
     },
     "execution_count": 15,
     "metadata": {},
     "output_type": "execute_result"
    }
   ],
   "source": [
    "a = 12\n",
    "print(a)\n",
    "type(a)"
   ]
  },
  {
   "cell_type": "code",
   "execution_count": 16,
   "id": "966bb09a",
   "metadata": {},
   "outputs": [
    {
     "name": "stdout",
     "output_type": "stream",
     "text": [
      "7.5\n"
     ]
    },
    {
     "data": {
      "text/plain": [
       "float"
      ]
     },
     "execution_count": 16,
     "metadata": {},
     "output_type": "execute_result"
    }
   ],
   "source": [
    "a = 7.5\n",
    "print(a)\n",
    "type(a)"
   ]
  },
  {
   "cell_type": "code",
   "execution_count": 18,
   "id": "066a40b3",
   "metadata": {},
   "outputs": [],
   "source": [
    "angka_1, angka_2 = 7, 15.2"
   ]
  },
  {
   "cell_type": "code",
   "execution_count": 19,
   "id": "e81ca95e",
   "metadata": {},
   "outputs": [
    {
     "name": "stdout",
     "output_type": "stream",
     "text": [
      "7\n"
     ]
    },
    {
     "data": {
      "text/plain": [
       "int"
      ]
     },
     "execution_count": 19,
     "metadata": {},
     "output_type": "execute_result"
    }
   ],
   "source": [
    "print(angka_1)\n",
    "type(angka_1)"
   ]
  },
  {
   "cell_type": "code",
   "execution_count": 20,
   "id": "6b9ac62c",
   "metadata": {},
   "outputs": [
    {
     "name": "stdout",
     "output_type": "stream",
     "text": [
      "15.2\n"
     ]
    },
    {
     "data": {
      "text/plain": [
       "float"
      ]
     },
     "execution_count": 20,
     "metadata": {},
     "output_type": "execute_result"
    }
   ],
   "source": [
    "print(angka_2)\n",
    "type(angka_2)"
   ]
  },
  {
   "cell_type": "code",
   "execution_count": 21,
   "id": "170a1235",
   "metadata": {},
   "outputs": [
    {
     "name": "stdout",
     "output_type": "stream",
     "text": [
      "Nine Alvariqati V.A\n"
     ]
    },
    {
     "data": {
      "text/plain": [
       "str"
      ]
     },
     "execution_count": 21,
     "metadata": {},
     "output_type": "execute_result"
    }
   ],
   "source": [
    "nama = \"Nine Alvariqati V.A\"\n",
    "print(nama)\n",
    "type(nama)"
   ]
  },
  {
   "cell_type": "markdown",
   "id": "7f0d3c52",
   "metadata": {},
   "source": [
    "## Operasi Bilangan"
   ]
  },
  {
   "cell_type": "code",
   "execution_count": 23,
   "id": "0127189c",
   "metadata": {},
   "outputs": [],
   "source": [
    "a = 5\n",
    "b = 4"
   ]
  },
  {
   "cell_type": "code",
   "execution_count": 24,
   "id": "ec775a53",
   "metadata": {},
   "outputs": [
    {
     "data": {
      "text/plain": [
       "1"
      ]
     },
     "execution_count": 24,
     "metadata": {},
     "output_type": "execute_result"
    }
   ],
   "source": [
    "a // b"
   ]
  },
  {
   "cell_type": "code",
   "execution_count": 25,
   "id": "51b59f3e",
   "metadata": {},
   "outputs": [
    {
     "data": {
      "text/plain": [
       "1"
      ]
     },
     "execution_count": 25,
     "metadata": {},
     "output_type": "execute_result"
    }
   ],
   "source": [
    "a % b"
   ]
  },
  {
   "cell_type": "code",
   "execution_count": 26,
   "id": "ba6a09a7",
   "metadata": {},
   "outputs": [
    {
     "name": "stdout",
     "output_type": "stream",
     "text": [
      "9\n",
      "20\n"
     ]
    }
   ],
   "source": [
    "#Aritmatika\n",
    "print(a + b)\n",
    "print(a * b)"
   ]
  },
  {
   "cell_type": "code",
   "execution_count": 28,
   "id": "b36cb195",
   "metadata": {},
   "outputs": [
    {
     "name": "stdout",
     "output_type": "stream",
     "text": [
      "NineAlvariqati\n"
     ]
    }
   ],
   "source": [
    "#String\n",
    "nama_dpn = \"Nine\"\n",
    "nama_blk = \"Alvariqati\"\n",
    "print(nama_dpn + nama_blk)"
   ]
  },
  {
   "cell_type": "code",
   "execution_count": 29,
   "id": "bf073de3",
   "metadata": {},
   "outputs": [
    {
     "name": "stdout",
     "output_type": "stream",
     "text": [
      "NineNineNineNineNine\n"
     ]
    }
   ],
   "source": [
    "print(nama_dpn * 5)"
   ]
  },
  {
   "cell_type": "code",
   "execution_count": 30,
   "id": "0661a41c",
   "metadata": {},
   "outputs": [
    {
     "name": "stdout",
     "output_type": "stream",
     "text": [
      "True\n"
     ]
    }
   ],
   "source": [
    "#Perbandingan\n",
    "a = 10\n",
    "b = 5\n",
    "print(a > b)"
   ]
  },
  {
   "cell_type": "code",
   "execution_count": 31,
   "id": "cbca7527",
   "metadata": {},
   "outputs": [
    {
     "name": "stdout",
     "output_type": "stream",
     "text": [
      "True\n"
     ]
    }
   ],
   "source": [
    "#Logika\n",
    "print(False or True)"
   ]
  },
  {
   "cell_type": "code",
   "execution_count": 32,
   "id": "0f4169d2",
   "metadata": {},
   "outputs": [
    {
     "name": "stdout",
     "output_type": "stream",
     "text": [
      "Nine alvariqati\n",
      "NINE ALVARIQATI\n",
      "nine alvariqati\n",
      "Nine Alvariqati\n"
     ]
    }
   ],
   "source": [
    "nama = \"Nine alvariqati\"\n",
    "print(nama.capitalize())\n",
    "print(nama.upper())\n",
    "print(nama.lower())\n",
    "print(nama.title())"
   ]
  },
  {
   "cell_type": "markdown",
   "id": "ff50bf0b",
   "metadata": {},
   "source": [
    "## Tipe Data Majemuk"
   ]
  },
  {
   "cell_type": "code",
   "execution_count": 33,
   "id": "75d5258e",
   "metadata": {},
   "outputs": [
    {
     "name": "stdout",
     "output_type": "stream",
     "text": [
      "(53, 45.2, True, 'Nine', (1, 2, 3))\n"
     ]
    },
    {
     "data": {
      "text/plain": [
       "tuple"
      ]
     },
     "execution_count": 33,
     "metadata": {},
     "output_type": "execute_result"
    }
   ],
   "source": [
    "#Tuple dan list\n",
    "my_tuple = (53, 45.2, True, \"Nine\", (1, 2, 3))\n",
    "print(my_tuple)\n",
    "type(my_tuple)"
   ]
  },
  {
   "cell_type": "code",
   "execution_count": 34,
   "id": "1b2b423d",
   "metadata": {},
   "outputs": [
    {
     "name": "stdout",
     "output_type": "stream",
     "text": [
      "[53, 45.2, True, 'Nine', (1, 2, 3)]\n"
     ]
    },
    {
     "data": {
      "text/plain": [
       "list"
      ]
     },
     "execution_count": 34,
     "metadata": {},
     "output_type": "execute_result"
    }
   ],
   "source": [
    "my_list = [53, 45.2, True, \"Nine\", (1, 2, 3)]\n",
    "print(my_list)\n",
    "type(my_list)"
   ]
  },
  {
   "cell_type": "code",
   "execution_count": 35,
   "id": "145e84f1",
   "metadata": {},
   "outputs": [
    {
     "name": "stdout",
     "output_type": "stream",
     "text": [
      "Nine\n"
     ]
    }
   ],
   "source": [
    "print(my_tuple[3])"
   ]
  },
  {
   "cell_type": "code",
   "execution_count": 36,
   "id": "bce73e1e",
   "metadata": {},
   "outputs": [
    {
     "name": "stdout",
     "output_type": "stream",
     "text": [
      "True\n"
     ]
    }
   ],
   "source": [
    "print(my_list[2])"
   ]
  },
  {
   "cell_type": "code",
   "execution_count": 37,
   "id": "286ebc36",
   "metadata": {},
   "outputs": [
    {
     "name": "stdout",
     "output_type": "stream",
     "text": [
      "Nine\n"
     ]
    }
   ],
   "source": [
    "print(my_list[-2])"
   ]
  },
  {
   "cell_type": "code",
   "execution_count": 38,
   "id": "35a685ad",
   "metadata": {},
   "outputs": [
    {
     "name": "stdout",
     "output_type": "stream",
     "text": [
      "[True, 'Nine']\n"
     ]
    }
   ],
   "source": [
    "print(my_list[2:4])"
   ]
  },
  {
   "cell_type": "code",
   "execution_count": 40,
   "id": "7c8b69d5",
   "metadata": {},
   "outputs": [
    {
     "name": "stdout",
     "output_type": "stream",
     "text": [
      "(True, 'Nine')\n"
     ]
    }
   ],
   "source": [
    "print(my_tuple[2:4])"
   ]
  },
  {
   "cell_type": "code",
   "execution_count": 41,
   "id": "51951336",
   "metadata": {},
   "outputs": [
    {
     "data": {
      "text/plain": [
       "False"
      ]
     },
     "execution_count": 41,
     "metadata": {},
     "output_type": "execute_result"
    }
   ],
   "source": [
    "\"nine\" in my_tuple"
   ]
  },
  {
   "cell_type": "code",
   "execution_count": 42,
   "id": "d2b83f0c",
   "metadata": {},
   "outputs": [
    {
     "data": {
      "text/plain": [
       "True"
      ]
     },
     "execution_count": 42,
     "metadata": {},
     "output_type": "execute_result"
    }
   ],
   "source": [
    "\"Nine\" in my_tuple"
   ]
  },
  {
   "cell_type": "code",
   "execution_count": 43,
   "id": "19e8fc0a",
   "metadata": {},
   "outputs": [],
   "source": [
    "my_list[3] = \"Nine Alvariqati\""
   ]
  },
  {
   "cell_type": "code",
   "execution_count": 44,
   "id": "42e1e51b",
   "metadata": {},
   "outputs": [
    {
     "data": {
      "text/plain": [
       "[53, 45.2, True, 'Nine Alvariqati', (1, 2, 3)]"
      ]
     },
     "execution_count": 44,
     "metadata": {},
     "output_type": "execute_result"
    }
   ],
   "source": [
    "my_list"
   ]
  },
  {
   "cell_type": "code",
   "execution_count": 46,
   "id": "57fe1cdd",
   "metadata": {},
   "outputs": [
    {
     "ename": "TypeError",
     "evalue": "'tuple' object does not support item assignment",
     "output_type": "error",
     "traceback": [
      "\u001b[1;31m---------------------------------------------------------------------------\u001b[0m",
      "\u001b[1;31mTypeError\u001b[0m                                 Traceback (most recent call last)",
      "Input \u001b[1;32mIn [46]\u001b[0m, in \u001b[0;36m<cell line: 1>\u001b[1;34m()\u001b[0m\n\u001b[1;32m----> 1\u001b[0m my_tuple[\u001b[38;5;241m3\u001b[39m] \u001b[38;5;241m=\u001b[39m \u001b[38;5;124m\"\u001b[39m\u001b[38;5;124mNine Alvariqati\u001b[39m\u001b[38;5;124m\"\u001b[39m\n",
      "\u001b[1;31mTypeError\u001b[0m: 'tuple' object does not support item assignment"
     ]
    }
   ],
   "source": [
    "my_tuple[3] = \"Nine Alvariqati\" #tupple tidak bisa di edit"
   ]
  },
  {
   "cell_type": "code",
   "execution_count": 59,
   "id": "3e1fbd13",
   "metadata": {},
   "outputs": [
    {
     "data": {
      "text/plain": [
       "[53, 45.2, True, 'Nine Alvariqati', (1, 2, 3)]"
      ]
     },
     "execution_count": 59,
     "metadata": {},
     "output_type": "execute_result"
    }
   ],
   "source": [
    "#Menambah data\n",
    "my_list"
   ]
  },
  {
   "cell_type": "code",
   "execution_count": 60,
   "id": "4c636cdb",
   "metadata": {},
   "outputs": [],
   "source": [
    "#menggunakan append\n",
    "my_list.append(\"Surabay\")"
   ]
  },
  {
   "cell_type": "code",
   "execution_count": 61,
   "id": "788b15e0",
   "metadata": {},
   "outputs": [
    {
     "data": {
      "text/plain": [
       "[53, 45.2, True, 'Nine Alvariqati', (1, 2, 3), 'Surabay']"
      ]
     },
     "execution_count": 61,
     "metadata": {},
     "output_type": "execute_result"
    }
   ],
   "source": [
    "my_list"
   ]
  },
  {
   "cell_type": "code",
   "execution_count": 62,
   "id": "81ef89b9",
   "metadata": {},
   "outputs": [],
   "source": [
    "#menggunakan insert\n",
    "my_list.insert(0, \"MSIB\")"
   ]
  },
  {
   "cell_type": "code",
   "execution_count": 63,
   "id": "67b58e42",
   "metadata": {},
   "outputs": [
    {
     "data": {
      "text/plain": [
       "['MSIB', 53, 45.2, True, 'Nine Alvariqati', (1, 2, 3), 'Surabay']"
      ]
     },
     "execution_count": 63,
     "metadata": {},
     "output_type": "execute_result"
    }
   ],
   "source": [
    "my_list"
   ]
  },
  {
   "cell_type": "code",
   "execution_count": 64,
   "id": "9c0ec700",
   "metadata": {},
   "outputs": [
    {
     "data": {
      "text/plain": [
       "['MSIB', 53, 45.2, True, 'Nine Alvariqati', (1, 2, 3), 'Surabay']"
      ]
     },
     "execution_count": 64,
     "metadata": {},
     "output_type": "execute_result"
    }
   ],
   "source": [
    "#Menghapus data\n",
    "my_list"
   ]
  },
  {
   "cell_type": "code",
   "execution_count": 65,
   "id": "3b3cd487",
   "metadata": {},
   "outputs": [],
   "source": [
    "#menggunakan remove\n",
    "my_list.remove('Surabay')"
   ]
  },
  {
   "cell_type": "code",
   "execution_count": 56,
   "id": "3d08e1bf",
   "metadata": {},
   "outputs": [
    {
     "data": {
      "text/plain": [
       "['MSIB', 53, 45.2, True, 'Nine Alvariqati', (1, 2, 3)]"
      ]
     },
     "execution_count": 56,
     "metadata": {},
     "output_type": "execute_result"
    }
   ],
   "source": [
    "my_list"
   ]
  },
  {
   "cell_type": "code",
   "execution_count": 66,
   "id": "809ecd71",
   "metadata": {},
   "outputs": [],
   "source": [
    "#menggunakan del\n",
    "del my_list[0]"
   ]
  },
  {
   "cell_type": "code",
   "execution_count": 68,
   "id": "438cb2d9",
   "metadata": {},
   "outputs": [
    {
     "data": {
      "text/plain": [
       "[53, 45.2, True, 'Nine Alvariqati', (1, 2, 3)]"
      ]
     },
     "execution_count": 68,
     "metadata": {},
     "output_type": "execute_result"
    }
   ],
   "source": [
    "my_list"
   ]
  },
  {
   "cell_type": "code",
   "execution_count": 73,
   "id": "c3aa98e7",
   "metadata": {},
   "outputs": [],
   "source": [
    "#Dictionary\n",
    "my_dict = {'Nama':'Nine Alvariqati', 'Pekerjaan': 'Data Scientist'}"
   ]
  },
  {
   "cell_type": "code",
   "execution_count": 75,
   "id": "b5392936",
   "metadata": {},
   "outputs": [
    {
     "data": {
      "text/plain": [
       "'Nine Alvariqati'"
      ]
     },
     "execution_count": 75,
     "metadata": {},
     "output_type": "execute_result"
    }
   ],
   "source": [
    "my_dict['Nama']"
   ]
  },
  {
   "cell_type": "code",
   "execution_count": 76,
   "id": "191934c1",
   "metadata": {},
   "outputs": [],
   "source": [
    "my_dict['Nama'] = 'Rara'"
   ]
  },
  {
   "cell_type": "code",
   "execution_count": 77,
   "id": "30fdd0b1",
   "metadata": {},
   "outputs": [
    {
     "data": {
      "text/plain": [
       "{'Nama': 'Rara', 'Pekerjaan': 'Data Scientist'}"
      ]
     },
     "execution_count": 77,
     "metadata": {},
     "output_type": "execute_result"
    }
   ],
   "source": [
    "my_dict"
   ]
  },
  {
   "cell_type": "code",
   "execution_count": 78,
   "id": "10bd533a",
   "metadata": {},
   "outputs": [],
   "source": [
    "my_dict['Domisili'] = 'Surabaya'"
   ]
  },
  {
   "cell_type": "code",
   "execution_count": 79,
   "id": "d0af214e",
   "metadata": {},
   "outputs": [
    {
     "data": {
      "text/plain": [
       "{'Nama': 'Rara', 'Pekerjaan': 'Data Scientist', 'Domisili': 'Surabaya'}"
      ]
     },
     "execution_count": 79,
     "metadata": {},
     "output_type": "execute_result"
    }
   ],
   "source": [
    "my_dict"
   ]
  },
  {
   "cell_type": "code",
   "execution_count": 80,
   "id": "a174f7b0",
   "metadata": {},
   "outputs": [],
   "source": [
    "del my_dict['Pekerjaan']"
   ]
  },
  {
   "cell_type": "code",
   "execution_count": 81,
   "id": "3e219f06",
   "metadata": {},
   "outputs": [
    {
     "data": {
      "text/plain": [
       "{'Nama': 'Rara', 'Domisili': 'Surabaya'}"
      ]
     },
     "execution_count": 81,
     "metadata": {},
     "output_type": "execute_result"
    }
   ],
   "source": [
    "my_dict"
   ]
  },
  {
   "cell_type": "code",
   "execution_count": 82,
   "id": "2344d116",
   "metadata": {},
   "outputs": [],
   "source": [
    "#Set\n",
    "\n",
    "my_set1 = {1,1,1,1,1,2,2,3,3,3,3,3,4,4,4,4,5,5,5,5}\n",
    "my_set2 = {3,6,9,12}"
   ]
  },
  {
   "cell_type": "code",
   "execution_count": 83,
   "id": "5e021aef",
   "metadata": {},
   "outputs": [
    {
     "data": {
      "text/plain": [
       "{1, 2, 3, 4, 5, 6, 9, 12}"
      ]
     },
     "execution_count": 83,
     "metadata": {},
     "output_type": "execute_result"
    }
   ],
   "source": [
    "my_set1.union(my_set2)"
   ]
  },
  {
   "cell_type": "code",
   "execution_count": 84,
   "id": "64162978",
   "metadata": {},
   "outputs": [
    {
     "data": {
      "text/plain": [
       "{3}"
      ]
     },
     "execution_count": 84,
     "metadata": {},
     "output_type": "execute_result"
    }
   ],
   "source": [
    "my_set1.intersection(my_set2)"
   ]
  },
  {
   "cell_type": "markdown",
   "id": "63084067",
   "metadata": {},
   "source": [
    "## String Formating"
   ]
  },
  {
   "cell_type": "code",
   "execution_count": 85,
   "id": "9e53d99f",
   "metadata": {},
   "outputs": [],
   "source": [
    "nama = 'NineAlvariqati'"
   ]
  },
  {
   "cell_type": "code",
   "execution_count": 86,
   "id": "ff1e25a6",
   "metadata": {},
   "outputs": [
    {
     "data": {
      "text/plain": [
       "'e'"
      ]
     },
     "execution_count": 86,
     "metadata": {},
     "output_type": "execute_result"
    }
   ],
   "source": [
    "nama[3]"
   ]
  },
  {
   "cell_type": "code",
   "execution_count": 87,
   "id": "1fb30d54",
   "metadata": {},
   "outputs": [
    {
     "data": {
      "text/plain": [
       "'Alvar'"
      ]
     },
     "execution_count": 87,
     "metadata": {},
     "output_type": "execute_result"
    }
   ],
   "source": [
    "nama[4:9]"
   ]
  },
  {
   "cell_type": "code",
   "execution_count": 88,
   "id": "4838a3d0",
   "metadata": {},
   "outputs": [
    {
     "data": {
      "text/plain": [
       "False"
      ]
     },
     "execution_count": 88,
     "metadata": {},
     "output_type": "execute_result"
    }
   ],
   "source": [
    "'p' in nama"
   ]
  },
  {
   "cell_type": "code",
   "execution_count": 93,
   "id": "4ee18c1e",
   "metadata": {},
   "outputs": [
    {
     "name": "stdout",
     "output_type": "stream",
     "text": [
      "Nama saya Nineeeeee\n"
     ]
    }
   ],
   "source": [
    "#Didn't use f string\n",
    "\n",
    "nama = \"Nineeeeee\"\n",
    "print(\"Nama saya\", nama)"
   ]
  },
  {
   "cell_type": "code",
   "execution_count": 94,
   "id": "69a41a24",
   "metadata": {},
   "outputs": [
    {
     "name": "stdout",
     "output_type": "stream",
     "text": [
      "Nama saya Nineeeeee\n"
     ]
    }
   ],
   "source": [
    "#Use f string\n",
    "\n",
    "nama = \"Nineeeeee\"\n",
    "print(f\"Nama saya {nama}\")"
   ]
  },
  {
   "cell_type": "code",
   "execution_count": 95,
   "id": "13721ac1",
   "metadata": {},
   "outputs": [
    {
     "name": "stdout",
     "output_type": "stream",
     "text": [
      "Siswa bernama Zyzy berada di kelas VI A\n"
     ]
    }
   ],
   "source": [
    "nama = \"Zyzy\"\n",
    "kelas = \"VI A\"\n",
    "print(f\"Siswa bernama {nama} berada di kelas {kelas}\")"
   ]
  },
  {
   "cell_type": "code",
   "execution_count": null,
   "id": "ed1da1b3",
   "metadata": {},
   "outputs": [],
   "source": []
  }
 ],
 "metadata": {
  "kernelspec": {
   "display_name": "Python 3 (ipykernel)",
   "language": "python",
   "name": "python3"
  },
  "language_info": {
   "codemirror_mode": {
    "name": "ipython",
    "version": 3
   },
   "file_extension": ".py",
   "mimetype": "text/x-python",
   "name": "python",
   "nbconvert_exporter": "python",
   "pygments_lexer": "ipython3",
   "version": "3.9.12"
  }
 },
 "nbformat": 4,
 "nbformat_minor": 5
}
